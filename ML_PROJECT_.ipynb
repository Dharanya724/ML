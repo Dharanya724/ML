{
  "nbformat": 4,
  "nbformat_minor": 0,
  "metadata": {
    "colab": {
      "provenance": []
    },
    "kernelspec": {
      "name": "python3",
      "display_name": "Python 3"
    },
    "language_info": {
      "name": "python"
    }
  },
  "cells": [
    {
      "cell_type": "code",
      "execution_count": 1,
      "metadata": {
        "id": "wf5k15mDS_Pu"
      },
      "outputs": [],
      "source": [
        "import numpy as np\n",
        "import pandas as pd\n",
        "from sklearn.preprocessing import StandardScaler\n",
        "from sklearn.model_selection import train_test_split\n",
        "from sklearn import svm\n",
        "from sklearn.metrics import accuracy_score, confusion_matrix"
      ]
    },
    {
      "cell_type": "markdown",
      "source": [
        "PIMA dataset Analysis"
      ],
      "metadata": {
        "id": "2vKCiGu2TV4C"
      }
    },
    {
      "cell_type": "code",
      "source": [
        "from google.colab import drive\n",
        "drive.mount('/content/drive')"
      ],
      "metadata": {
        "colab": {
          "base_uri": "https://localhost:8080/"
        },
        "id": "J5EMsSK89lhn",
        "outputId": "947141e9-17a6-4d9a-bd95-ec28a87fea77"
      },
      "execution_count": 3,
      "outputs": [
        {
          "output_type": "stream",
          "name": "stdout",
          "text": [
            "Mounted at /content/drive\n"
          ]
        }
      ]
    },
    {
      "cell_type": "code",
      "source": [
        "# Load the dataset\n",
        "diabetes_dataset = pd.read_csv('/content/diabetes.csv')\n"
      ],
      "metadata": {
        "id": "kE65i8EQTY-R"
      },
      "execution_count": 9,
      "outputs": []
    },
    {
      "cell_type": "code",
      "source": [
        "# Display the first few rows of the dataset\n",
        "print(diabetes_dataset.head())\n"
      ],
      "metadata": {
        "colab": {
          "base_uri": "https://localhost:8080/"
        },
        "id": "z-tu4RE4Up64",
        "outputId": "41541a68-8cf6-42ce-9669-ab1367c33f6f"
      },
      "execution_count": 10,
      "outputs": [
        {
          "output_type": "stream",
          "name": "stdout",
          "text": [
            "   Pregnancies  Glucose  BloodPressure  SkinThickness  Insulin   BMI  \\\n",
            "0            6      148             72             35        0  33.6   \n",
            "1            1       85             66             29        0  26.6   \n",
            "2            8      183             64              0        0  23.3   \n",
            "3            1       89             66             23       94  28.1   \n",
            "4            0      137             40             35      168  43.1   \n",
            "\n",
            "   DiabetesPedigreeFunction  Age  Outcome  \n",
            "0                     0.627   50        1  \n",
            "1                     0.351   31        0  \n",
            "2                     0.672   32        1  \n",
            "3                     0.167   21        0  \n",
            "4                     2.288   33        1  \n"
          ]
        }
      ]
    },
    {
      "cell_type": "markdown",
      "source": [
        "Separate Features and Labels"
      ],
      "metadata": {
        "id": "r5pk6gVeU35L"
      }
    },
    {
      "cell_type": "code",
      "source": [
        "# Separate the data and labels\n",
        "X = diabetes_dataset.drop(columns='Outcome', axis=1)  # Features\n",
        "Y = diabetes_dataset['Outcome']  # Labels (0 or 1)\n"
      ],
      "metadata": {
        "id": "0oGp6DABU41_"
      },
      "execution_count": 12,
      "outputs": []
    },
    {
      "cell_type": "markdown",
      "source": [
        "Data Standardization"
      ],
      "metadata": {
        "id": "Rh9uu0VsVE1J"
      }
    },
    {
      "cell_type": "code",
      "source": [
        "# Initialize the StandardScaler\n",
        "scaler = StandardScaler()\n",
        "\n",
        "# Fit the scaler on X and transform X\n",
        "X_scaled = scaler.fit_transform(X)\n"
      ],
      "metadata": {
        "id": "v75sG443VWSX"
      },
      "execution_count": 13,
      "outputs": []
    },
    {
      "cell_type": "code",
      "source": [
        "# Print the standardized data\n",
        "print(X_scaled)\n"
      ],
      "metadata": {
        "colab": {
          "base_uri": "https://localhost:8080/"
        },
        "id": "nK0WNLGNVslk",
        "outputId": "47f01a7c-3f27-4b32-979e-dbad557d7943"
      },
      "execution_count": 14,
      "outputs": [
        {
          "output_type": "stream",
          "name": "stdout",
          "text": [
            "[[ 0.63994726  0.84832379  0.14964075 ...  0.20401277  0.46849198\n",
            "   1.4259954 ]\n",
            " [-0.84488505 -1.12339636 -0.16054575 ... -0.68442195 -0.36506078\n",
            "  -0.19067191]\n",
            " [ 1.23388019  1.94372388 -0.26394125 ... -1.10325546  0.60439732\n",
            "  -0.10558415]\n",
            " ...\n",
            " [ 0.3429808   0.00330087  0.14964075 ... -0.73518964 -0.68519336\n",
            "  -0.27575966]\n",
            " [-0.84488505  0.1597866  -0.47073225 ... -0.24020459 -0.37110101\n",
            "   1.17073215]\n",
            " [-0.84488505 -0.8730192   0.04624525 ... -0.20212881 -0.47378505\n",
            "  -0.87137393]]\n"
          ]
        }
      ]
    },
    {
      "cell_type": "code",
      "source": [
        "# Initialize the StandardScaler\n",
        "scaler = StandardScaler()\n",
        "\n",
        "# Fit the scaler on X and transform X\n",
        "X_scaled = scaler.fit_transform(X)  # Standardize features\n",
        "\n",
        "# Reassign X and Y\n",
        "X = X_scaled  # Now X holds the standardized data\n",
        "Y = diabetes_dataset['Outcome']  # Target labels\n"
      ],
      "metadata": {
        "id": "ZoX18Uf9WIBT"
      },
      "execution_count": 15,
      "outputs": []
    },
    {
      "cell_type": "code",
      "source": [
        "# Print the standardized features\n",
        "print(\"Standardized Features (X):\")\n",
        "print(X)\n",
        "\n",
        "# Print the target labels\n",
        "print(\"\\nTarget Labels (Y):\")\n",
        "print(Y)\n"
      ],
      "metadata": {
        "colab": {
          "base_uri": "https://localhost:8080/"
        },
        "id": "nLPNjrMsWP6A",
        "outputId": "10bb1f8c-cf23-45e6-8ba5-51a031f53ddc"
      },
      "execution_count": 16,
      "outputs": [
        {
          "output_type": "stream",
          "name": "stdout",
          "text": [
            "Standardized Features (X):\n",
            "[[ 0.63994726  0.84832379  0.14964075 ...  0.20401277  0.46849198\n",
            "   1.4259954 ]\n",
            " [-0.84488505 -1.12339636 -0.16054575 ... -0.68442195 -0.36506078\n",
            "  -0.19067191]\n",
            " [ 1.23388019  1.94372388 -0.26394125 ... -1.10325546  0.60439732\n",
            "  -0.10558415]\n",
            " ...\n",
            " [ 0.3429808   0.00330087  0.14964075 ... -0.73518964 -0.68519336\n",
            "  -0.27575966]\n",
            " [-0.84488505  0.1597866  -0.47073225 ... -0.24020459 -0.37110101\n",
            "   1.17073215]\n",
            " [-0.84488505 -0.8730192   0.04624525 ... -0.20212881 -0.47378505\n",
            "  -0.87137393]]\n",
            "\n",
            "Target Labels (Y):\n",
            "0      1\n",
            "1      0\n",
            "2      1\n",
            "3      0\n",
            "4      1\n",
            "      ..\n",
            "763    0\n",
            "764    0\n",
            "765    0\n",
            "766    1\n",
            "767    0\n",
            "Name: Outcome, Length: 768, dtype: int64\n"
          ]
        }
      ]
    },
    {
      "cell_type": "markdown",
      "source": [
        "Split the Data into Training and Testing Sets"
      ],
      "metadata": {
        "id": "TJIa6ihPWdAz"
      }
    },
    {
      "cell_type": "code",
      "source": [
        "# Split the data into training and testing sets\n",
        "X_train, X_test, Y_train, Y_test = train_test_split(X, Y, test_size=0.2, random_state=42)\n",
        "\n",
        "# Print the shapes of the original and split datasets\n",
        "print(f'Original dataset shape: {X.shape}')\n",
        "print(f'Training set shape: {X_train.shape}')\n",
        "print(f'Testing set shape: {X_test.shape}')\n",
        "\n"
      ],
      "metadata": {
        "colab": {
          "base_uri": "https://localhost:8080/"
        },
        "id": "ydPqWT_wWdzw",
        "outputId": "7f07978a-2fa4-403c-89d0-31e4196e928b"
      },
      "execution_count": 17,
      "outputs": [
        {
          "output_type": "stream",
          "name": "stdout",
          "text": [
            "Original dataset shape: (768, 8)\n",
            "Training set shape: (614, 8)\n",
            "Testing set shape: (154, 8)\n"
          ]
        }
      ]
    },
    {
      "cell_type": "markdown",
      "source": [
        "Create and Train the SVM Model"
      ],
      "metadata": {
        "id": "rpwKOs2GW-Aw"
      }
    },
    {
      "cell_type": "code",
      "source": [
        "# Create the SVM model with a linear kernel\n",
        "svm_model = svm.SVC(kernel='linear')\n",
        "\n",
        "# Train the model on the training data\n",
        "svm_model.fit(X_train, Y_train)\n",
        "Y_pred = svm_model.predict(X_test)\n"
      ],
      "metadata": {
        "id": "vYi5vn4kW-6j"
      },
      "execution_count": 18,
      "outputs": []
    },
    {
      "cell_type": "markdown",
      "source": [
        "accuracy score"
      ],
      "metadata": {
        "id": "ZulpsLqwXmRU"
      }
    },
    {
      "cell_type": "code",
      "source": [
        "from sklearn.metrics import accuracy_score, confusion_matrix\n",
        "\n",
        "# Calculate the accuracy score on the training data\n",
        "X_train_prediction = svm_model.predict(X_train)\n",
        "training_data_accuracy = accuracy_score(Y_train, X_train_prediction)\n",
        "\n",
        "# Calculate the accuracy score on the testing data\n",
        "testing_data_accuracy = accuracy_score(Y_test, Y_pred)\n",
        "\n",
        "# Print the accuracy scores\n",
        "print(f'Training Data Accuracy: {training_data_accuracy * 100:.2f}%')\n",
        "print(f'Testing Data Accuracy: {testing_data_accuracy * 100:.2f}%')\n",
        "\n",
        "# Confusion matrix for evaluation\n",
        "cm = confusion_matrix(Y_test, Y_pred)\n",
        "print('Confusion Matrix:\\n', cm)\n"
      ],
      "metadata": {
        "colab": {
          "base_uri": "https://localhost:8080/"
        },
        "id": "DQFqm92TXoH8",
        "outputId": "4e918843-a2c5-4dbf-e928-0a6ff30270c7"
      },
      "execution_count": 19,
      "outputs": [
        {
          "output_type": "stream",
          "name": "stdout",
          "text": [
            "Training Data Accuracy: 77.20%\n",
            "Testing Data Accuracy: 75.97%\n",
            "Confusion Matrix:\n",
            " [[81 18]\n",
            " [19 36]]\n"
          ]
        }
      ]
    },
    {
      "cell_type": "markdown",
      "source": [
        "prediction system"
      ],
      "metadata": {
        "id": "F4bxbfuBYwkM"
      }
    },
    {
      "cell_type": "code",
      "source": [
        "import numpy as np\n",
        "\n",
        "# Example input data (replace with actual values as needed)\n",
        "input_data = (1, 85, 66, 29, 0, 26.6, 0.351, 31)  # Non-diabetic\n",
        "\n",
        "\n",
        "# Change the input_data to a numpy array\n",
        "input_data_as_numpy_array = np.asarray(input_data)\n",
        "\n",
        "# Reshape the array as we are predicting for one instance\n",
        "input_data_reshaped = input_data_as_numpy_array.reshape(1, -1)\n",
        "\n",
        "# Standardize the input data using the previously fitted scaler\n",
        "std_data = scaler.transform(input_data_reshaped)\n",
        "\n",
        "# Print standardized data\n",
        "print(\"Standardized Input Data:\", std_data)\n",
        "\n",
        "# Make the prediction\n",
        "prediction = svm_model.predict(std_data)\n",
        "\n",
        "# Output the prediction\n",
        "if prediction[0] == 0:\n",
        "    print('The person is not diabetic.')\n",
        "else:\n",
        "    print('The person is diabetic.')\n"
      ],
      "metadata": {
        "colab": {
          "base_uri": "https://localhost:8080/"
        },
        "id": "s4BFsDmfYyu2",
        "outputId": "11b3e2d9-24ed-4dc0-a7e5-e12d8069d05c"
      },
      "execution_count": 20,
      "outputs": [
        {
          "output_type": "stream",
          "name": "stdout",
          "text": [
            "Standardized Input Data: [[-0.84488505 -1.12339636 -0.16054575  0.53090156 -0.69289057 -0.68442195\n",
            "  -0.36506078 -0.19067191]]\n",
            "The person is not diabetic.\n"
          ]
        },
        {
          "output_type": "stream",
          "name": "stderr",
          "text": [
            "/usr/local/lib/python3.11/dist-packages/sklearn/utils/validation.py:2739: UserWarning: X does not have valid feature names, but StandardScaler was fitted with feature names\n",
            "  warnings.warn(\n"
          ]
        }
      ]
    }
  ]
}